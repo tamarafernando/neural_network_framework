{
 "cells": [
  {
   "cell_type": "markdown",
   "id": "respiratory-layer",
   "metadata": {},
   "source": [
    "### HOW TO USE THE FRAMEWORK"
   ]
  },
  {
   "cell_type": "markdown",
   "id": "vietnamese-disclosure",
   "metadata": {},
   "source": [
    "Import relevant moduls"
   ]
  },
  {
   "cell_type": "code",
   "execution_count": 1,
   "id": "lovely-vinyl",
   "metadata": {},
   "outputs": [
    {
     "name": "stdout",
     "output_type": "stream",
     "text": [
      "mnist\\train-images-idx3-ubyte.gz already exists, skipping ...\n",
      "mnist\\train-images-idx3-ubyte already exists, skipping ... \n",
      "mnist\\train-labels-idx1-ubyte.gz already exists, skipping ...\n",
      "mnist\\train-labels-idx1-ubyte already exists, skipping ... \n",
      "mnist\\t10k-images-idx3-ubyte.gz already exists, skipping ...\n",
      "mnist\\t10k-images-idx3-ubyte already exists, skipping ... \n",
      "mnist\\t10k-labels-idx1-ubyte.gz already exists, skipping ...\n",
      "mnist\\t10k-labels-idx1-ubyte already exists, skipping ... \n"
     ]
    }
   ],
   "source": [
    "import matplotlib.pyplot as plt\n",
    "import numpy as np\n",
    "from example import mnist_downloader\n",
    "np.set_printoptions(precision=4, suppress=True, floatmode=\"maxprec\")\n",
    "\n",
    "\n",
    "from framework import pca, optimizer, scaler\n",
    "\n",
    "# make sure that you don't accidently add the download folder\n",
    "# to your git (it *should* already be in the .gitignore)\n",
    "download_folder = \"./mnist/\"\n",
    "mnist_downloader.download_and_unzip(download_folder)"
   ]
  },
  {
   "cell_type": "markdown",
   "id": "positive-transmission",
   "metadata": {},
   "source": [
    "We import the MNIST Dataset"
   ]
  },
  {
   "cell_type": "code",
   "execution_count": 2,
   "id": "loving-bracelet",
   "metadata": {},
   "outputs": [],
   "source": [
    "from mnist import MNIST\n",
    "\n",
    "mndata = MNIST('mnist', return_type=\"numpy\")\n",
    "\n",
    "images_train, labels_train = mndata.load_training()\n",
    "images_validation, labels_validation = mndata.load_testing()"
   ]
  },
  {
   "cell_type": "markdown",
   "id": "armed-minutes",
   "metadata": {},
   "source": [
    "Scaling of features with standardization by selecting Class \"StandardScaler\" from module \"scaler\""
   ]
  },
  {
   "cell_type": "code",
   "execution_count": 3,
   "id": "early-effect",
   "metadata": {},
   "outputs": [],
   "source": [
    "my_scaler = scaler.StandardScaler()\n",
    "my_scaler.fit(images_train)\n",
    "x_scaled = my_scaler.transform(images_train)"
   ]
  },
  {
   "cell_type": "markdown",
   "id": "every-diesel",
   "metadata": {},
   "source": [
    "#### Principle Component Analysis\n",
    "Factorizing the scaled features using the Principle Component Analysis leads to a smaller number of components given into the network later on and therewith a smaller and faster network. \n",
    "By adjusting the percentage of variance the components have to explain, we set the number of components."
   ]
  },
  {
   "cell_type": "code",
   "execution_count": 4,
   "id": "appropriate-texas",
   "metadata": {},
   "outputs": [],
   "source": [
    "explained_variance = 0.99"
   ]
  },
  {
   "cell_type": "code",
   "execution_count": 5,
   "id": "elegant-yorkshire",
   "metadata": {},
   "outputs": [],
   "source": [
    "pcs, vectors = pca.pcatraining(x_scaled, explained_variance)"
   ]
  },
  {
   "cell_type": "markdown",
   "id": "confused-million",
   "metadata": {},
   "source": [
    "#### The Network"
   ]
  },
  {
   "cell_type": "markdown",
   "id": "seven-infrared",
   "metadata": {},
   "source": [
    "With the MNIST_DICTIONARY we are setting the labels for the multiclass classification in order to be able to interpret the output of the network later on. In this case, an output of 0 means the network detected an image containing the number zero and so on."
   ]
  },
  {
   "cell_type": "code",
   "execution_count": 6,
   "id": "swedish-great",
   "metadata": {},
   "outputs": [],
   "source": [
    "MNIST_DICTIONARY ={0:0,\n",
    "                   1:1,\n",
    "                   2:2,\n",
    "                   3:3,\n",
    "                   4:4,\n",
    "                   5:5,\n",
    "                   6:6,\n",
    "                   7:7,\n",
    "                   8:8,\n",
    "                   9:9\n",
    "                   }"
   ]
  },
  {
   "cell_type": "markdown",
   "id": "public-blast",
   "metadata": {},
   "source": [
    "We set the architecture for the network to one layer containing 20 neurons. This is done by inizializing an array in which the size represents the number of layers and each position represents the amount of neurons. "
   ]
  },
  {
   "cell_type": "code",
   "execution_count": 7,
   "id": "daily-pulse",
   "metadata": {},
   "outputs": [],
   "source": [
    "architecture = [20]"
   ]
  },
  {
   "cell_type": "markdown",
   "id": "specialized-intention",
   "metadata": {},
   "source": [
    "To instantiate the network, you have to specify the desired activation function (here \"sigmoid\"), the desired error function (here \"CrossEntropy\") and the regularization (here 0) in addition to the parameters just initialized (Principle Components, Classification Dictionary and architecture)"
   ]
  },
  {
   "cell_type": "code",
   "execution_count": 8,
   "id": "deadly-treasurer",
   "metadata": {},
   "outputs": [],
   "source": [
    "network = optimizer.NeuralNetwork(pcs, MNIST_DICTIONARY, \"sigmoid\", \"CrossEntropy\", architecture, 0)"
   ]
  },
  {
   "cell_type": "markdown",
   "id": "suburban-opportunity",
   "metadata": {},
   "source": [
    "To finally train our network we now need to define the learning rate alpha, the iterations and the labels fitting our images "
   ]
  },
  {
   "cell_type": "code",
   "execution_count": 9,
   "id": "funny-referral",
   "metadata": {},
   "outputs": [],
   "source": [
    "alpha = 0.1\n",
    "y = labels_train\n",
    "iterations = 600"
   ]
  },
  {
   "cell_type": "code",
   "execution_count": 10,
   "id": "hawaiian-rainbow",
   "metadata": {},
   "outputs": [
    {
     "name": "stdout",
     "output_type": "stream",
     "text": [
      "The error for the trainings set is: (0.03258955686017244-3.563038461956632e-19j) /n the accuracy is: 0.7919333333333334\n",
      "The mean F1 Score is: 0.7870251331671775\n",
      "F1 Score for  0  :  0.8962381149235221\n",
      "____________\n",
      "F1 Score for  1  :  0.9169502570414887\n",
      "____________\n",
      "F1 Score for  2  :  0.7576779998269747\n",
      "____________\n",
      "F1 Score for  3  :  0.7692307692307693\n",
      "____________\n",
      "F1 Score for  4  :  0.7395930875968332\n",
      "____________\n",
      "F1 Score for  5  :  0.6672594348942896\n",
      "____________\n",
      "F1 Score for  6  :  0.8715844752605235\n",
      "____________\n",
      "F1 Score for  7  :  0.83030112923463\n",
      "____________\n",
      "F1 Score for  8  :  0.7262252946911283\n",
      "____________\n",
      "F1 Score for  9  :  0.6951907689716164\n",
      "____________\n"
     ]
    },
    {
     "name": "stderr",
     "output_type": "stream",
     "text": [
      "c:\\users\\s390638\\.virtualenvs\\o2_mlpackage-n1lsfocu\\lib\\site-packages\\numpy\\core\\_asarray.py:83: ComplexWarning: Casting complex values to real discards the imaginary part\n",
      "  return array(a, dtype, copy=False, order=order)\n"
     ]
    },
    {
     "data": {
      "text/plain": "<Figure size 1008x504 with 1 Axes>",
      "image/png": "[encoded data removed]"
     },
     "metadata": {
      "needs_background": "light"
     },
     "output_type": "display_data"
    }
   ],
   "source": [
    "network.gradientdescent(alpha, iterations, pcs, y)"
   ]
  },
  {
   "cell_type": "markdown",
   "id": "adverse-natural",
   "metadata": {},
   "source": [
    "#### Validation\n",
    "To validate the training set we simply instantiate the class \"NetworkValidation\" from the module \"optimizer\" and pass our trained thetas and trained bias as input parameters as well as the activation function we used during training."
   ]
  },
  {
   "cell_type": "code",
   "execution_count": 11,
   "id": "entitled-mason",
   "metadata": {},
   "outputs": [],
   "source": [
    "validator = optimizer.NetworkValidation(network.thetasarray, network.biasarray, \"sigmoid\")"
   ]
  },
  {
   "cell_type": "markdown",
   "id": "legislative-redhead",
   "metadata": {},
   "source": [
    "As the data preparation of the validation set and the data preparation of the training set must be equal, we scale the validation data with the scaler (\"my_scaler\") which we initialized for the training set."
   ]
  },
  {
   "cell_type": "code",
   "execution_count": 12,
   "id": "violent-publicity",
   "metadata": {},
   "outputs": [],
   "source": [
    "x_validation_scaled = my_scaler.transform(images_validation)"
   ]
  },
  {
   "cell_type": "markdown",
   "id": "frozen-accident",
   "metadata": {},
   "source": [
    "To factorize the validation features in the same way as we did with the training features we now pass the calculated vectors from the training set as input parameters into the pcavalidation method"
   ]
  },
  {
   "cell_type": "code",
   "execution_count": 13,
   "id": "important-appreciation",
   "metadata": {},
   "outputs": [],
   "source": [
    "pcs_validation = pca.pcavalidation(x_validation_scaled, vectors)"
   ]
  },
  {
   "cell_type": "markdown",
   "id": "resistant-stage",
   "metadata": {},
   "source": [
    "\"pcavalidation\" returns the calculated softmax which then can be further processed to get the f1 scores for each class of the validation data"
   ]
  },
  {
   "cell_type": "code",
   "execution_count": 14,
   "id": "modern-fellow",
   "metadata": {
    "scrolled": false
   },
   "outputs": [],
   "source": [
    "softmax = validator.prediction(pcs_validation)"
   ]
  },
  {
   "cell_type": "code",
   "execution_count": 15,
   "id": "muslim-american",
   "metadata": {},
   "outputs": [],
   "source": [
    "h = np.argmax(softmax, axis=1)"
   ]
  },
  {
   "cell_type": "code",
   "execution_count": 16,
   "id": "regulated-motivation",
   "metadata": {},
   "outputs": [],
   "source": [
    "y = labels_validation"
   ]
  },
  {
   "cell_type": "code",
   "execution_count": 17,
   "id": "little-precipitation",
   "metadata": {},
   "outputs": [],
   "source": [
    "yoh = network.onehot(y, network.outputneurons)"
   ]
  },
  {
   "cell_type": "code",
   "execution_count": 18,
   "id": "excellent-classification",
   "metadata": {},
   "outputs": [],
   "source": [
    "yoh_pred = network.onehot(h, network.outputneurons)"
   ]
  },
  {
   "cell_type": "code",
   "execution_count": 19,
   "id": "useful-address",
   "metadata": {},
   "outputs": [
    {
     "name": "stdout",
     "output_type": "stream",
     "text": [
      "The mean F1 Score is: 0.7953623924240664\n",
      "F1 Score for  0  :  0.9007936507936508\n",
      "____________\n",
      "F1 Score for  1  :  0.9278617710583152\n",
      "____________\n",
      "F1 Score for  2  :  0.7653688524590164\n",
      "____________\n",
      "F1 Score for  3  :  0.784556720686368\n",
      "____________\n",
      "F1 Score for  4  :  0.7650602409638554\n",
      "____________\n",
      "F1 Score for  5  :  0.6589805825242719\n",
      "____________\n",
      "F1 Score for  6  :  0.8546571136131014\n",
      "____________\n",
      "F1 Score for  7  :  0.826959847036329\n",
      "____________\n",
      "F1 Score for  8  :  0.7463157894736843\n",
      "____________\n",
      "F1 Score for  9  :  0.723069355632071\n",
      "____________\n"
     ]
    },
    {
     "data": {
      "text/plain": "array([0.9008, 0.9279, 0.7654, 0.7846, 0.7651, 0.659 , 0.8547, 0.827 ,\n       0.7463, 0.7231])"
     },
     "execution_count": 19,
     "metadata": {},
     "output_type": "execute_result"
    }
   ],
   "source": [
    "network.f1_scores_classes(MNIST_DICTIONARY, yoh, yoh_pred)"
   ]
  }
 ],
 "metadata": {
  "kernelspec": {
   "display_name": "Python 3",
   "language": "python",
   "name": "python3"
  },
  "language_info": {
   "codemirror_mode": {
    "name": "ipython",
    "version": 3
   },
   "file_extension": ".py",
   "mimetype": "text/x-python",
   "name": "python",
   "nbconvert_exporter": "python",
   "pygments_lexer": "ipython3",
   "version": "3.7.9"
  }
 },
 "nbformat": 4,
 "nbformat_minor": 5
}